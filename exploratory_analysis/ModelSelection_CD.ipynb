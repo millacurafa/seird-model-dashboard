{
 "cells": [
  {
   "cell_type": "code",
   "execution_count": 1,
   "metadata": {},
   "outputs": [
    {
     "name": "stdout",
     "output_type": "stream",
     "text": [
      "Collecting lmfit\n",
      "  Downloading lmfit-1.0.1.tar.gz (258 kB)\n",
      "Collecting asteval>=0.9.16\n",
      "  Downloading asteval-0.9.21.tar.gz (54 kB)\n",
      "Requirement already satisfied: numpy>=1.16 in c:\\users\\fmill\\anaconda3\\lib\\site-packages (from lmfit) (1.18.5)\n",
      "Requirement already satisfied: scipy>=1.2 in c:\\users\\fmill\\anaconda3\\lib\\site-packages (from lmfit) (1.5.2)\n",
      "Collecting uncertainties>=3.0.1\n",
      "  Downloading uncertainties-3.1.5-py2.py3-none-any.whl (246 kB)\n",
      "Requirement already satisfied: future in c:\\users\\fmill\\anaconda3\\lib\\site-packages (from uncertainties>=3.0.1->lmfit) (0.18.2)\n",
      "Building wheels for collected packages: lmfit, asteval\n",
      "  Building wheel for lmfit (setup.py): started\n",
      "  Building wheel for lmfit (setup.py): finished with status 'done'\n",
      "  Created wheel for lmfit: filename=lmfit-1.0.1-py3-none-any.whl size=82006 sha256=104e88d9223f17e65ad56481d10f965fcca29694962bf1b6c77a06bdf845bf9f\n",
      "  Stored in directory: c:\\users\\fmill\\appdata\\local\\pip\\cache\\wheels\\b6\\e0\\3d\\52a095d9f869ec51e0f8052e4e80bf8e8d844d574e3f7d214b\n",
      "  Building wheel for asteval (setup.py): started\n",
      "  Building wheel for asteval (setup.py): finished with status 'done'\n",
      "  Created wheel for asteval: filename=asteval-0.9.21-py3-none-any.whl size=17299 sha256=32d25b7cc16a76536c1af757fa744d83867d45ba824eaeae4c271e60bb1b9f2b\n",
      "  Stored in directory: c:\\users\\fmill\\appdata\\local\\pip\\cache\\wheels\\83\\4d\\3c\\06c0b065829c90952351897b82bc35eef1fe5155cdd89dc032\n",
      "Successfully built lmfit asteval\n",
      "Installing collected packages: asteval, uncertainties, lmfit\n",
      "Successfully installed asteval-0.9.21 lmfit-1.0.1 uncertainties-3.1.5\n"
     ]
    }
   ],
   "source": [
    "!pip install lmfit"
   ]
  },
  {
   "cell_type": "code",
   "execution_count": 147,
   "metadata": {},
   "outputs": [],
   "source": [
    "import sklearn\n",
    "from sklearn import svm, datasets\n",
    "from sklearn.model_selection import train_test_split\n",
    "from sklearn.model_selection import GridSearchCV\n",
    "from sklearn.ensemble import RandomForestClassifier\n",
    "\n",
    "\n",
    "import pandas as pd\n",
    "import numpy as np"
   ]
  },
  {
   "cell_type": "code",
   "execution_count": 142,
   "metadata": {},
   "outputs": [],
   "source": [
    "df = pd.read_csv('https://raw.githubusercontent.com/MinCiencia/Datos-COVID19/master/output/producto5/TotalesNacionales_T.csv',\n",
    "                error_bad_lines=False\n",
    "                 )\n",
    "\n",
    "df= df.set_index('Fecha')"
   ]
  },
  {
   "cell_type": "code",
   "execution_count": 151,
   "metadata": {},
   "outputs": [],
   "source": [
    "data   = iris['data']\n",
    "labels = iris['target']"
   ]
  },
  {
   "cell_type": "code",
   "execution_count": 146,
   "metadata": {},
   "outputs": [],
   "source": [
    "X_train, X_test, y_train, y_test = train_test_split(data, labels, test_size=0.25, random_state=42, shuffle=True)"
   ]
  },
  {
   "cell_type": "code",
   "execution_count": 152,
   "metadata": {},
   "outputs": [
    {
     "name": "stdout",
     "output_type": "stream",
     "text": [
      "[0 1 2] \n",
      " [35 39 38]\n"
     ]
    }
   ],
   "source": [
    "u, c = np.unique(y_train, return_counts=True)\n",
    "print(u,'\\n',c)"
   ]
  },
  {
   "cell_type": "code",
   "execution_count": 50,
   "metadata": {},
   "outputs": [
    {
     "data": {
      "text/plain": [
       "['accuracy',\n",
       " 'adjusted_mutual_info_score',\n",
       " 'adjusted_rand_score',\n",
       " 'average_precision',\n",
       " 'balanced_accuracy',\n",
       " 'completeness_score',\n",
       " 'explained_variance',\n",
       " 'f1',\n",
       " 'f1_macro',\n",
       " 'f1_micro',\n",
       " 'f1_samples',\n",
       " 'f1_weighted',\n",
       " 'fowlkes_mallows_score',\n",
       " 'homogeneity_score',\n",
       " 'jaccard',\n",
       " 'jaccard_macro',\n",
       " 'jaccard_micro',\n",
       " 'jaccard_samples',\n",
       " 'jaccard_weighted',\n",
       " 'max_error',\n",
       " 'mutual_info_score',\n",
       " 'neg_brier_score',\n",
       " 'neg_log_loss',\n",
       " 'neg_mean_absolute_error',\n",
       " 'neg_mean_gamma_deviance',\n",
       " 'neg_mean_poisson_deviance',\n",
       " 'neg_mean_squared_error',\n",
       " 'neg_mean_squared_log_error',\n",
       " 'neg_median_absolute_error',\n",
       " 'neg_root_mean_squared_error',\n",
       " 'normalized_mutual_info_score',\n",
       " 'precision',\n",
       " 'precision_macro',\n",
       " 'precision_micro',\n",
       " 'precision_samples',\n",
       " 'precision_weighted',\n",
       " 'r2',\n",
       " 'recall',\n",
       " 'recall_macro',\n",
       " 'recall_micro',\n",
       " 'recall_samples',\n",
       " 'recall_weighted',\n",
       " 'roc_auc',\n",
       " 'roc_auc_ovo',\n",
       " 'roc_auc_ovo_weighted',\n",
       " 'roc_auc_ovr',\n",
       " 'roc_auc_ovr_weighted',\n",
       " 'v_measure_score']"
      ]
     },
     "execution_count": 50,
     "metadata": {},
     "output_type": "execute_result"
    }
   ],
   "source": [
    "sorted(sklearn.metrics.SCORERS.keys())"
   ]
  },
  {
   "cell_type": "code",
   "execution_count": 153,
   "metadata": {},
   "outputs": [],
   "source": [
    "parameters = {'n_estimators': [100, 200, 400, 1000], \n",
    "              'criterion':['entropy', 'gini'],\n",
    "              'class_weight': [\"balanced\", \"balanced_subsample\"]}"
   ]
  },
  {
   "cell_type": "code",
   "execution_count": 154,
   "metadata": {},
   "outputs": [],
   "source": [
    "rf = RandomForestClassifier()\n",
    "scoring = [\"f1_macro\", \"recall_macro\"]\n",
    "grid_search = GridSearchCV(rf, parameters, cv=3, scoring=scoring, refit=False)"
   ]
  },
  {
   "cell_type": "code",
   "execution_count": 155,
   "metadata": {},
   "outputs": [
    {
     "name": "stdout",
     "output_type": "stream",
     "text": [
      "CPU times: user 38.4 s, sys: 191 ms, total: 38.6 s\n",
      "Wall time: 38.7 s\n"
     ]
    }
   ],
   "source": [
    "%%time\n",
    "grid_search = grid_search.fit(X_train, y_train)"
   ]
  },
  {
   "cell_type": "code",
   "execution_count": 156,
   "metadata": {},
   "outputs": [],
   "source": [
    "results_cv = pd.DataFrame(grid_search.cv_results_)\n",
    "results_cv = results_cv[['params', 'mean_test_f1_macro','std_test_f1_macro']]\n",
    "results_cv = results_cv.sort_values('mean_test_f1_macro', ascending=False)"
   ]
  },
  {
   "cell_type": "code",
   "execution_count": 157,
   "metadata": {},
   "outputs": [
    {
     "data": {
      "text/html": [
       "<div>\n",
       "<style scoped>\n",
       "    .dataframe tbody tr th:only-of-type {\n",
       "        vertical-align: middle;\n",
       "    }\n",
       "\n",
       "    .dataframe tbody tr th {\n",
       "        vertical-align: top;\n",
       "    }\n",
       "\n",
       "    .dataframe thead th {\n",
       "        text-align: right;\n",
       "    }\n",
       "</style>\n",
       "<table border=\"1\" class=\"dataframe\">\n",
       "  <thead>\n",
       "    <tr style=\"text-align: right;\">\n",
       "      <th></th>\n",
       "      <th>params</th>\n",
       "      <th>mean_test_f1_macro</th>\n",
       "      <th>std_test_f1_macro</th>\n",
       "    </tr>\n",
       "  </thead>\n",
       "  <tbody>\n",
       "    <tr>\n",
       "      <th>1</th>\n",
       "      <td>{'class_weight': 'balanced', 'criterion': 'ent...</td>\n",
       "      <td>0.956042</td>\n",
       "      <td>0.025850</td>\n",
       "    </tr>\n",
       "    <tr>\n",
       "      <th>0</th>\n",
       "      <td>{'class_weight': 'balanced', 'criterion': 'ent...</td>\n",
       "      <td>0.947406</td>\n",
       "      <td>0.022398</td>\n",
       "    </tr>\n",
       "    <tr>\n",
       "      <th>3</th>\n",
       "      <td>{'class_weight': 'balanced', 'criterion': 'ent...</td>\n",
       "      <td>0.947268</td>\n",
       "      <td>0.038259</td>\n",
       "    </tr>\n",
       "    <tr>\n",
       "      <th>6</th>\n",
       "      <td>{'class_weight': 'balanced', 'criterion': 'gin...</td>\n",
       "      <td>0.947268</td>\n",
       "      <td>0.038259</td>\n",
       "    </tr>\n",
       "    <tr>\n",
       "      <th>7</th>\n",
       "      <td>{'class_weight': 'balanced', 'criterion': 'gin...</td>\n",
       "      <td>0.947268</td>\n",
       "      <td>0.038259</td>\n",
       "    </tr>\n",
       "    <tr>\n",
       "      <th>10</th>\n",
       "      <td>{'class_weight': 'balanced_subsample', 'criter...</td>\n",
       "      <td>0.947268</td>\n",
       "      <td>0.038259</td>\n",
       "    </tr>\n",
       "    <tr>\n",
       "      <th>11</th>\n",
       "      <td>{'class_weight': 'balanced_subsample', 'criter...</td>\n",
       "      <td>0.947268</td>\n",
       "      <td>0.038259</td>\n",
       "    </tr>\n",
       "    <tr>\n",
       "      <th>13</th>\n",
       "      <td>{'class_weight': 'balanced_subsample', 'criter...</td>\n",
       "      <td>0.947268</td>\n",
       "      <td>0.038259</td>\n",
       "    </tr>\n",
       "    <tr>\n",
       "      <th>14</th>\n",
       "      <td>{'class_weight': 'balanced_subsample', 'criter...</td>\n",
       "      <td>0.947268</td>\n",
       "      <td>0.038259</td>\n",
       "    </tr>\n",
       "    <tr>\n",
       "      <th>15</th>\n",
       "      <td>{'class_weight': 'balanced_subsample', 'criter...</td>\n",
       "      <td>0.947268</td>\n",
       "      <td>0.038259</td>\n",
       "    </tr>\n",
       "    <tr>\n",
       "      <th>2</th>\n",
       "      <td>{'class_weight': 'balanced', 'criterion': 'ent...</td>\n",
       "      <td>0.946806</td>\n",
       "      <td>0.038913</td>\n",
       "    </tr>\n",
       "    <tr>\n",
       "      <th>9</th>\n",
       "      <td>{'class_weight': 'balanced_subsample', 'criter...</td>\n",
       "      <td>0.946806</td>\n",
       "      <td>0.038913</td>\n",
       "    </tr>\n",
       "    <tr>\n",
       "      <th>4</th>\n",
       "      <td>{'class_weight': 'balanced', 'criterion': 'gin...</td>\n",
       "      <td>0.938632</td>\n",
       "      <td>0.033847</td>\n",
       "    </tr>\n",
       "    <tr>\n",
       "      <th>8</th>\n",
       "      <td>{'class_weight': 'balanced_subsample', 'criter...</td>\n",
       "      <td>0.938632</td>\n",
       "      <td>0.033847</td>\n",
       "    </tr>\n",
       "    <tr>\n",
       "      <th>5</th>\n",
       "      <td>{'class_weight': 'balanced', 'criterion': 'gin...</td>\n",
       "      <td>0.938170</td>\n",
       "      <td>0.034469</td>\n",
       "    </tr>\n",
       "    <tr>\n",
       "      <th>12</th>\n",
       "      <td>{'class_weight': 'balanced_subsample', 'criter...</td>\n",
       "      <td>0.938150</td>\n",
       "      <td>0.051154</td>\n",
       "    </tr>\n",
       "  </tbody>\n",
       "</table>\n",
       "</div>"
      ],
      "text/plain": [
       "                                               params  mean_test_f1_macro  \\\n",
       "1   {'class_weight': 'balanced', 'criterion': 'ent...            0.956042   \n",
       "0   {'class_weight': 'balanced', 'criterion': 'ent...            0.947406   \n",
       "3   {'class_weight': 'balanced', 'criterion': 'ent...            0.947268   \n",
       "6   {'class_weight': 'balanced', 'criterion': 'gin...            0.947268   \n",
       "7   {'class_weight': 'balanced', 'criterion': 'gin...            0.947268   \n",
       "10  {'class_weight': 'balanced_subsample', 'criter...            0.947268   \n",
       "11  {'class_weight': 'balanced_subsample', 'criter...            0.947268   \n",
       "13  {'class_weight': 'balanced_subsample', 'criter...            0.947268   \n",
       "14  {'class_weight': 'balanced_subsample', 'criter...            0.947268   \n",
       "15  {'class_weight': 'balanced_subsample', 'criter...            0.947268   \n",
       "2   {'class_weight': 'balanced', 'criterion': 'ent...            0.946806   \n",
       "9   {'class_weight': 'balanced_subsample', 'criter...            0.946806   \n",
       "4   {'class_weight': 'balanced', 'criterion': 'gin...            0.938632   \n",
       "8   {'class_weight': 'balanced_subsample', 'criter...            0.938632   \n",
       "5   {'class_weight': 'balanced', 'criterion': 'gin...            0.938170   \n",
       "12  {'class_weight': 'balanced_subsample', 'criter...            0.938150   \n",
       "\n",
       "    std_test_f1_macro  \n",
       "1            0.025850  \n",
       "0            0.022398  \n",
       "3            0.038259  \n",
       "6            0.038259  \n",
       "7            0.038259  \n",
       "10           0.038259  \n",
       "11           0.038259  \n",
       "13           0.038259  \n",
       "14           0.038259  \n",
       "15           0.038259  \n",
       "2            0.038913  \n",
       "9            0.038913  \n",
       "4            0.033847  \n",
       "8            0.033847  \n",
       "5            0.034469  \n",
       "12           0.051154  "
      ]
     },
     "execution_count": 157,
     "metadata": {},
     "output_type": "execute_result"
    }
   ],
   "source": [
    "results_cv"
   ]
  },
  {
   "cell_type": "code",
   "execution_count": 158,
   "metadata": {},
   "outputs": [
    {
     "data": {
      "text/plain": [
       "{'class_weight': 'balanced', 'criterion': 'entropy', 'n_estimators': 200}"
      ]
     },
     "execution_count": 158,
     "metadata": {},
     "output_type": "execute_result"
    }
   ],
   "source": [
    "results_cv.iloc[0, :]['params']"
   ]
  },
  {
   "cell_type": "markdown",
   "metadata": {},
   "source": [
    "Adicionalmente, una vez hayamos definido los hiperparametros podemos hacer"
   ]
  },
  {
   "cell_type": "code",
   "execution_count": 160,
   "metadata": {},
   "outputs": [],
   "source": [
    "from sklearn.model_selection import ShuffleSplit\n",
    "from sklearn.model_selection import cross_validate\n",
    "from sklearn.metrics import f1_score\n",
    "import numpy as np"
   ]
  },
  {
   "cell_type": "code",
   "execution_count": 161,
   "metadata": {},
   "outputs": [],
   "source": [
    "rf = RandomForestClassifier(n_estimators=200, criterion='entropy', class_weight='balanced')"
   ]
  },
  {
   "cell_type": "code",
   "execution_count": 164,
   "metadata": {},
   "outputs": [],
   "source": [
    "cv = ShuffleSplit(n_splits=5, test_size=0.3, random_state=0)"
   ]
  },
  {
   "cell_type": "code",
   "execution_count": 169,
   "metadata": {},
   "outputs": [],
   "source": [
    "results = cross_validate(rf, X_train, y_train, cv=cv, return_estimator=True, scoring='f1_macro')"
   ]
  },
  {
   "cell_type": "code",
   "execution_count": 170,
   "metadata": {},
   "outputs": [
    {
     "data": {
      "text/plain": [
       "{'fit_time': array([0.29935932, 0.28405952, 0.28638458, 0.32385039, 0.34898949]),\n",
       " 'score_time': array([0.0205276 , 0.02039266, 0.01897836, 0.02665019, 0.02451134]),\n",
       " 'estimator': (RandomForestClassifier(class_weight='balanced', criterion='entropy',\n",
       "                         n_estimators=200),\n",
       "  RandomForestClassifier(class_weight='balanced', criterion='entropy',\n",
       "                         n_estimators=200),\n",
       "  RandomForestClassifier(class_weight='balanced', criterion='entropy',\n",
       "                         n_estimators=200),\n",
       "  RandomForestClassifier(class_weight='balanced', criterion='entropy',\n",
       "                         n_estimators=200),\n",
       "  RandomForestClassifier(class_weight='balanced', criterion='entropy',\n",
       "                         n_estimators=200)),\n",
       " 'test_score': array([0.91534392, 1.        , 0.93939394, 0.93611111, 0.86425339])}"
      ]
     },
     "execution_count": 170,
     "metadata": {},
     "output_type": "execute_result"
    }
   ],
   "source": [
    "results"
   ]
  },
  {
   "cell_type": "markdown",
   "metadata": {},
   "source": [
    "o tambien podriamos hace un ciclo for e iterar sobre los subset que genera `ShuffleSplit()`"
   ]
  },
  {
   "cell_type": "code",
   "execution_count": 174,
   "metadata": {},
   "outputs": [],
   "source": [
    "val_f1s = results['test_score']"
   ]
  },
  {
   "cell_type": "code",
   "execution_count": 176,
   "metadata": {},
   "outputs": [
    {
     "name": "stdout",
     "output_type": "stream",
     "text": [
      "VAL SCORE: 0.93 +- 0.04\n"
     ]
    }
   ],
   "source": [
    "print('VAL SCORE: {:.2f} +- {:.2f}'.format(np.mean(val_f1s), np.std(val_f1s)))"
   ]
  },
  {
   "cell_type": "markdown",
   "metadata": {},
   "source": [
    "## Final Model\n",
    "El mejor modelo (osea el que ocuparemos para produccion) puede ser aquel que obtuvo el mejor f1 en el conjunto de test"
   ]
  },
  {
   "cell_type": "code",
   "execution_count": 177,
   "metadata": {},
   "outputs": [],
   "source": [
    "f1_list = []\n",
    "for model in results['estimator']:\n",
    "    y_pred = model.predict(X_test)\n",
    "    f1 = f1_score(y_test, y_pred, average='macro')\n",
    "    f1_list.append(f1)"
   ]
  },
  {
   "cell_type": "code",
   "execution_count": 178,
   "metadata": {
    "scrolled": true
   },
   "outputs": [
    {
     "name": "stdout",
     "output_type": "stream",
     "text": [
      "0.99 + 0.01\n"
     ]
    }
   ],
   "source": [
    "print('{:.2f} + {:.2f}'.format(np.mean(f1_list), np.std(f1_list)))"
   ]
  },
  {
   "cell_type": "markdown",
   "metadata": {},
   "source": [
    "Esta metrica nos permite discriminar entre un modelo u otro"
   ]
  },
  {
   "cell_type": "code",
   "execution_count": null,
   "metadata": {},
   "outputs": [],
   "source": []
  },
  {
   "cell_type": "code",
   "execution_count": null,
   "metadata": {},
   "outputs": [],
   "source": [
    "# "
   ]
  },
  {
   "cell_type": "code",
   "execution_count": null,
   "metadata": {},
   "outputs": [],
   "source": []
  },
  {
   "cell_type": "code",
   "execution_count": null,
   "metadata": {},
   "outputs": [],
   "source": []
  },
  {
   "cell_type": "code",
   "execution_count": null,
   "metadata": {},
   "outputs": [],
   "source": []
  },
  {
   "cell_type": "code",
   "execution_count": null,
   "metadata": {},
   "outputs": [],
   "source": []
  },
  {
   "cell_type": "code",
   "execution_count": null,
   "metadata": {},
   "outputs": [],
   "source": []
  },
  {
   "cell_type": "code",
   "execution_count": null,
   "metadata": {},
   "outputs": [],
   "source": []
  }
 ],
 "metadata": {
  "kernelspec": {
   "display_name": "Python 3",
   "language": "python",
   "name": "python3"
  },
  "language_info": {
   "codemirror_mode": {
    "name": "ipython",
    "version": 3
   },
   "file_extension": ".py",
   "mimetype": "text/x-python",
   "name": "python",
   "nbconvert_exporter": "python",
   "pygments_lexer": "ipython3",
   "version": "3.8.5"
  }
 },
 "nbformat": 4,
 "nbformat_minor": 4
}
